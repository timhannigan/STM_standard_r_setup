{
 "cells": [
  {
   "cell_type": "markdown",
   "metadata": {},
   "source": [
    "<h1>Preparing Corpus for STM - IDeaS Standard Notebook for STM Rendering</h1>\n",
    "<p>The aim of this notebook is process the csv file, prep for use with STM in R</p>"
   ]
  },
  {
   "cell_type": "code",
   "execution_count": null,
   "metadata": {},
   "outputs": [],
   "source": [
    "from datetime import datetime, timedelta\n",
    "from dateutil.relativedelta import *"
   ]
  },
  {
   "cell_type": "code",
   "execution_count": null,
   "metadata": {},
   "outputs": [],
   "source": [
    "import pandas as pd\n",
    "import numpy as np\n",
    "import xml"
   ]
  },
  {
   "cell_type": "code",
   "execution_count": null,
   "metadata": {},
   "outputs": [],
   "source": [
    "from tqdm import tqdm # progress bar\n",
    "from nltk.util import ngrams\n",
    "import collections\n",
    "from collections import Counter\n",
    "\n",
    "# NLTK Stop words\n",
    "from nltk.corpus import stopwords\n",
    "stop_words = stopwords.words('english')\n",
    "#import spacy\n",
    "import re\n",
    "import xlsxwriter"
   ]
  },
  {
   "cell_type": "code",
   "execution_count": null,
   "metadata": {},
   "outputs": [],
   "source": [
    "# excel files tend to presure line spaces well\n",
    "df = pd.read_excel(\"corpus_raw.xlsx\")"
   ]
  },
  {
   "cell_type": "code",
   "execution_count": null,
   "metadata": {},
   "outputs": [],
   "source": [
    "df.info()"
   ]
  },
  {
   "cell_type": "code",
   "execution_count": null,
   "metadata": {},
   "outputs": [],
   "source": [
    "df.head(2)"
   ]
  },
  {
   "cell_type": "markdown",
   "metadata": {},
   "source": [
    "#### What variables are we going to use here as covariates? "
   ]
  },
  {
   "cell_type": "code",
   "execution_count": null,
   "id": "037b4017",
   "metadata": {},
   "outputs": [],
   "source": [
    "df['source'].value_counts()"
   ]
  },
  {
   "cell_type": "markdown",
   "id": "87fc84ed",
   "metadata": {},
   "source": [
    "Let's use date and source. However, in order to do this, we will need to process each. For date, we will need a relative date measure (# weeks, # months). For source, we will need to consolidate and code for political leaning."
   ]
  },
  {
   "cell_type": "markdown",
   "metadata": {},
   "source": [
    "##### need to code for relative date (counting up from Jan 18, 2020)"
   ]
  },
  {
   "cell_type": "code",
   "execution_count": null,
   "metadata": {},
   "outputs": [],
   "source": [
    "df['date'] = pd.to_datetime(df['date'])"
   ]
  },
  {
   "cell_type": "code",
   "execution_count": null,
   "metadata": {},
   "outputs": [],
   "source": [
    "def count_days_from_origin(row):\n",
    "    date_origin = pd.to_datetime('2020-01-18')\n",
    "    return (row['date']- date_origin).days + 1 # with R, we want to start with 1"
   ]
  },
  {
   "cell_type": "code",
   "execution_count": null,
   "metadata": {},
   "outputs": [],
   "source": [
    "df['days_since_origin'] = df.apply(count_days_from_origin, axis=1)"
   ]
  },
  {
   "cell_type": "code",
   "execution_count": null,
   "metadata": {},
   "outputs": [],
   "source": [
    "def count_months_from_origin(row):\n",
    "    date_origin = pd.to_datetime('2020-01-18')\n",
    "    r = relativedelta(row['date'], date_origin)\n",
    "    months_difference = (r.years * 12) + r.months + 1 # with R, we want to start with 1\n",
    "    return months_difference"
   ]
  },
  {
   "cell_type": "code",
   "execution_count": null,
   "metadata": {},
   "outputs": [],
   "source": [
    "df['months_since_origin'] = df.apply(count_months_from_origin, axis=1)"
   ]
  },
  {
   "cell_type": "code",
   "execution_count": null,
   "metadata": {},
   "outputs": [],
   "source": [
    "df.head()"
   ]
  },
  {
   "cell_type": "code",
   "execution_count": null,
   "metadata": {},
   "outputs": [],
   "source": [
    "df.info()"
   ]
  },
  {
   "cell_type": "markdown",
   "id": "39932ff1",
   "metadata": {},
   "source": [
    "Not all articles have author (byline), so removing it for consistency"
   ]
  },
  {
   "cell_type": "code",
   "execution_count": null,
   "id": "6bf89dba",
   "metadata": {},
   "outputs": [],
   "source": [
    "df.drop('author', axis=1, inplace=True)"
   ]
  },
  {
   "cell_type": "code",
   "execution_count": null,
   "id": "337e9336",
   "metadata": {},
   "outputs": [],
   "source": [
    "df.info()"
   ]
  },
  {
   "cell_type": "code",
   "execution_count": null,
   "metadata": {},
   "outputs": [],
   "source": [
    "df['days_since_origin'].max()"
   ]
  },
  {
   "cell_type": "code",
   "execution_count": null,
   "id": "1be9bf72",
   "metadata": {},
   "outputs": [],
   "source": [
    "df['days_since_origin'].mean()"
   ]
  },
  {
   "cell_type": "code",
   "execution_count": null,
   "metadata": {},
   "outputs": [],
   "source": [
    "df['days_since_origin'].min()"
   ]
  },
  {
   "cell_type": "code",
   "execution_count": null,
   "id": "87b9e208",
   "metadata": {},
   "outputs": [],
   "source": [
    "df['months_since_origin'].max()"
   ]
  },
  {
   "cell_type": "code",
   "execution_count": null,
   "id": "f7de8607",
   "metadata": {},
   "outputs": [],
   "source": [
    "df['months_since_origin'].mean()"
   ]
  },
  {
   "cell_type": "code",
   "execution_count": null,
   "id": "19e2260f",
   "metadata": {},
   "outputs": [],
   "source": [
    "df['months_since_origin'].min()"
   ]
  },
  {
   "cell_type": "markdown",
   "id": "7c5cb8aa",
   "metadata": {},
   "source": [
    "#### Additional pre-processing"
   ]
  },
  {
   "cell_type": "code",
   "execution_count": null,
   "id": "96d34219",
   "metadata": {},
   "outputs": [],
   "source": [
    "df_for_stm = df.copy()"
   ]
  },
  {
   "cell_type": "code",
   "execution_count": null,
   "id": "c34b8de1",
   "metadata": {},
   "outputs": [],
   "source": [
    "# simple approach for stripping HTML code\n",
    "TAG_RE = re.compile(r'<[^>]+>')\n",
    "\n",
    "def remove_tags(text):\n",
    "    return TAG_RE.sub('', text)\n",
    "\n",
    "\n",
    "# this method doesn't work\n",
    "#def remove_tags(text):\n",
    "#    ''.join(xml.etree.ElementTree.fromstring(text).itertext())"
   ]
  },
  {
   "cell_type": "code",
   "execution_count": null,
   "id": "702bdf77",
   "metadata": {},
   "outputs": [],
   "source": [
    "def clean_string(text):\n",
    "    text = text.lower()\n",
    "    text = text.replace(\",\", \"\")\n",
    "    text = text.replace('\"', '')\n",
    "    text = text.replace(\"’\", \"'\") # straighten quotes\n",
    "    text = text.replace(\"'s\", \"\")\n",
    "    text = text.replace(\"'ve\", \"\")\n",
    "    text = text.replace(\"'re\", \"\")\n",
    "    text = text.replace(\"Canada'\", \"Canada\")\n",
    "    text = text.replace(\":\", \"\")\n",
    "    text = text.replace(\"%\", \"\")\n",
    "    text = text.replace(\"(\", \"\")\n",
    "    text = text.replace(\")\", \"\")\n",
    "    text = text.replace(\"*\", \"\")        \n",
    "    text = text.replace(\"?\", \"\")\n",
    "    text = text.replace(\"“\", \"\")\n",
    "    text = text.replace(\";\", \"\")    \n",
    "    text = text.replace(\"</a\", \"\")\n",
    "    text = re.sub(r'http\\S+', '', text)    \n",
    "    text = re.sub(r'[\\w\\.-]+@[\\w\\.-]+', '', text) # remove email addresses    \n",
    "    text = re.sub(r'\\b\\w+\\-*[\\.]*\\w+\\.[com|org|co\\.uk]/*[^ ]+\\b', '', text) # remove urls        \n",
    "    text = re.sub(\"\\.+\", \"\", text)\n",
    "    text = re.sub(\"\\s+\", \" \", text)\n",
    "    text = re.sub(\"\\-+\", \" \", text)    \n",
    "    text = text.strip()\n",
    "    return text"
   ]
  },
  {
   "cell_type": "code",
   "execution_count": null,
   "id": "b0383a95",
   "metadata": {},
   "outputs": [],
   "source": [
    "# strip HTML\n",
    "df_for_stm['body'] = df_for_stm['body'].apply(remove_tags)\n",
    "df_for_stm['body'] =  df_for_stm['body'].apply(clean_string)"
   ]
  },
  {
   "cell_type": "markdown",
   "id": "b9ba1052",
   "metadata": {},
   "source": [
    "## Everything below is custom code written for a project, shown here for illustrative purposes only"
   ]
  },
  {
   "cell_type": "markdown",
   "id": "ed997a0e",
   "metadata": {},
   "source": [
    "### Basic cleaning of Sources"
   ]
  },
  {
   "cell_type": "code",
   "execution_count": null,
   "id": "65d23110",
   "metadata": {},
   "outputs": [],
   "source": [
    "df_for_stm['source'].value_counts()"
   ]
  },
  {
   "cell_type": "code",
   "execution_count": null,
   "id": "d4773767",
   "metadata": {},
   "outputs": [],
   "source": [
    "df_for_stm['source'].nunique()"
   ]
  },
  {
   "cell_type": "code",
   "execution_count": null,
   "id": "33e55590",
   "metadata": {},
   "outputs": [],
   "source": [
    "def clean_sources(text):\n",
    "    text = text.replace(\"(Breaking News)\", \" \")\n",
    "    text = text.strip()\n",
    "    return text"
   ]
  },
  {
   "cell_type": "code",
   "execution_count": null,
   "id": "12f66e17",
   "metadata": {},
   "outputs": [],
   "source": [
    "df_for_stm['source']= df_for_stm['source'].apply(clean_sources)"
   ]
  },
  {
   "cell_type": "code",
   "execution_count": null,
   "id": "ac0066bc",
   "metadata": {},
   "outputs": [],
   "source": [
    "df_for_stm['source'].value_counts()"
   ]
  },
  {
   "cell_type": "code",
   "execution_count": null,
   "id": "52889912",
   "metadata": {},
   "outputs": [],
   "source": [
    "df_for_stm['source'].value_counts().to_excel(\"df_for_stm_source_value_counts.xlsx\")"
   ]
  },
  {
   "cell_type": "markdown",
   "id": "e8af3710",
   "metadata": {},
   "source": [
    "### Qualitatively Coding sources for political leanings"
   ]
  },
  {
   "cell_type": "markdown",
   "id": "30ea344e",
   "metadata": {},
   "source": [
    "We discussed coding newspapers for political leanings. For sources we were not able to clearly code, we are dropping them from the analysis."
   ]
  },
  {
   "cell_type": "raw",
   "id": "1fbd9250",
   "metadata": {},
   "source": [
    "Coding for all Newspapers in our sample:\n",
    "\n",
    "'Vancouver Province' - C\n",
    "'The London Free Press' - L - dropping it\n",
    "'Victoria Times Colonist' - dropping it\n",
    "'Winnipeg Free Press' - C\n",
    "'Montreal Gazette' - L\n",
    "'The Globe and Mail (Breaking News)' - L\n",
    "'The Hamilton Spectator' -  - dropping it\n",
    "'The Toronto Star' - L\n",
    "'The Globe and Mail', - L\n",
    "'National Post' - C\n",
    "'Calgary Herald' - C\n",
    "\n",
    "South Korean dataset:\n",
    "'Hankyoreh' - C\n",
    "'Dong-A' - L\n",
    "'JoongAng' - C \n",
    "'Kyunghyang' - L"
   ]
  },
  {
   "cell_type": "code",
   "execution_count": null,
   "id": "692f0a85",
   "metadata": {},
   "outputs": [],
   "source": [
    "sources = ['Vancouver Province',  'Winnipeg Free Press',\n",
    "'Montreal Gazette', 'The Globe and Mail', 'The Toronto Star', 'The Globe and Mail',\n",
    "'National Post', 'Calgary Herald']"
   ]
  },
  {
   "cell_type": "code",
   "execution_count": null,
   "id": "3e789f9a",
   "metadata": {},
   "outputs": [],
   "source": [
    "df_for_stm = df_for_stm[df_for_stm['source'].isin(sources)].copy()"
   ]
  },
  {
   "cell_type": "code",
   "execution_count": null,
   "id": "3833e4f1",
   "metadata": {},
   "outputs": [],
   "source": [
    "df_for_stm.info()"
   ]
  },
  {
   "cell_type": "markdown",
   "id": "85a19e29",
   "metadata": {},
   "source": [
    "This move trimmed our dataframe to 3789 rows"
   ]
  },
  {
   "cell_type": "markdown",
   "id": "6a68f834",
   "metadata": {},
   "source": [
    "<h4>Code for political leaning</h4>"
   ]
  },
  {
   "cell_type": "code",
   "execution_count": null,
   "id": "39612095",
   "metadata": {},
   "outputs": [],
   "source": [
    "sources = df_for_stm['source'].tolist()"
   ]
  },
  {
   "cell_type": "markdown",
   "id": "95ac124d",
   "metadata": {},
   "source": []
  },
  {
   "cell_type": "code",
   "execution_count": null,
   "id": "db4f479e",
   "metadata": {},
   "outputs": [],
   "source": [
    "political_leaning = []\n",
    "for s in sources:\n",
    "    if s=='Vancouver Province': political_leaning.append(\"C\")\n",
    "    elif s=='Winnipeg Free Press': political_leaning.append(\"C\")\n",
    "    elif s=='Montreal Gazette': political_leaning.append(\"L\")\n",
    "    elif s=='The Toronto Star': political_leaning.append(\"L\")\n",
    "    elif s=='The Globe and Mail': political_leaning.append(\"L\")\n",
    "    elif s=='National Post': political_leaning.append(\"C\")\n",
    "    elif s=='Calgary Herald': political_leaning.append(\"C\")    "
   ]
  },
  {
   "cell_type": "code",
   "execution_count": null,
   "id": "847d2c05",
   "metadata": {},
   "outputs": [],
   "source": [
    "df_for_stm['political_leaning']=political_leaning"
   ]
  },
  {
   "cell_type": "code",
   "execution_count": null,
   "id": "6a580e3d",
   "metadata": {},
   "outputs": [],
   "source": [
    "df_for_stm.head(2)"
   ]
  },
  {
   "cell_type": "markdown",
   "id": "511b0ff8",
   "metadata": {},
   "source": [
    "### Save for further analysis in R"
   ]
  },
  {
   "cell_type": "code",
   "execution_count": null,
   "metadata": {},
   "outputs": [],
   "source": [
    "filename = \"covid_mask_canada_for_STM\"\n",
    "df_for_stm.to_csv(filename+\".csv\") # better for STM analysis\n",
    "df_for_stm.to_excel(filename+\".xlsx\") # better for quick viewing"
   ]
  },
  {
   "cell_type": "markdown",
   "id": "e1d6e2de",
   "metadata": {},
   "source": [
    "Go to R directly for more processing.. note, this assumes there is an adjacent folder named \"rendering_topics\""
   ]
  },
  {
   "cell_type": "code",
   "execution_count": null,
   "id": "6a5f93e7",
   "metadata": {},
   "outputs": [],
   "source": [
    "import shutil\n",
    "shutil.copy(filename+\".csv\", '../rendering_topics/')"
   ]
  }
 ],
 "metadata": {
  "interpreter": {
   "hash": "f9d1be2f896a2b1078863873dfacd43d08ad8f0343c6704a80ed0211d6cdc359"
  },
  "kernelspec": {
   "display_name": "py37",
   "language": "python",
   "name": "python3"
  },
  "language_info": {
   "codemirror_mode": {
    "name": "ipython",
    "version": 3
   },
   "file_extension": ".py",
   "mimetype": "text/x-python",
   "name": "python",
   "nbconvert_exporter": "python",
   "pygments_lexer": "ipython3",
   "version": "3.9.10"
  }
 },
 "nbformat": 4,
 "nbformat_minor": 5
}
